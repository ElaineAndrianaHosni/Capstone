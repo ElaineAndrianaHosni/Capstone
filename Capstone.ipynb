{
  "nbformat": 4,
  "nbformat_minor": 0,
  "metadata": {
    "colab": {
      "provenance": []
    },
    "kernelspec": {
      "name": "python3",
      "display_name": "Python 3"
    },
    "language_info": {
      "name": "python"
    }
  },
  "cells": [
    {
      "cell_type": "code",
      "execution_count": null,
      "metadata": {
        "id": "hwdjp2LA5npn"
      },
      "outputs": [],
      "source": [
        "import pandas as pd\n",
        "import pandas as pd\n",
        "import tensorflow as tf\n",
        "from sklearn.model_selection import train_test_split\n"
      ]
    },
    {
      "cell_type": "code",
      "source": [
        "from google.colab import files\n",
        "uploaded = files.upload()"
      ],
      "metadata": {
        "colab": {
          "base_uri": "https://localhost:8080/",
          "height": 73
        },
        "id": "473cP_eg69km",
        "outputId": "f4b16364-a01f-4997-9b19-62144a38b24f"
      },
      "execution_count": null,
      "outputs": [
        {
          "output_type": "display_data",
          "data": {
            "text/plain": [
              "<IPython.core.display.HTML object>"
            ],
            "text/html": [
              "\n",
              "     <input type=\"file\" id=\"files-9cfe4cd3-0c27-4d8a-95a8-988d42176513\" name=\"files[]\" multiple disabled\n",
              "        style=\"border:none\" />\n",
              "     <output id=\"result-9cfe4cd3-0c27-4d8a-95a8-988d42176513\">\n",
              "      Upload widget is only available when the cell has been executed in the\n",
              "      current browser session. Please rerun this cell to enable.\n",
              "      </output>\n",
              "      <script>// Copyright 2017 Google LLC\n",
              "//\n",
              "// Licensed under the Apache License, Version 2.0 (the \"License\");\n",
              "// you may not use this file except in compliance with the License.\n",
              "// You may obtain a copy of the License at\n",
              "//\n",
              "//      http://www.apache.org/licenses/LICENSE-2.0\n",
              "//\n",
              "// Unless required by applicable law or agreed to in writing, software\n",
              "// distributed under the License is distributed on an \"AS IS\" BASIS,\n",
              "// WITHOUT WARRANTIES OR CONDITIONS OF ANY KIND, either express or implied.\n",
              "// See the License for the specific language governing permissions and\n",
              "// limitations under the License.\n",
              "\n",
              "/**\n",
              " * @fileoverview Helpers for google.colab Python module.\n",
              " */\n",
              "(function(scope) {\n",
              "function span(text, styleAttributes = {}) {\n",
              "  const element = document.createElement('span');\n",
              "  element.textContent = text;\n",
              "  for (const key of Object.keys(styleAttributes)) {\n",
              "    element.style[key] = styleAttributes[key];\n",
              "  }\n",
              "  return element;\n",
              "}\n",
              "\n",
              "// Max number of bytes which will be uploaded at a time.\n",
              "const MAX_PAYLOAD_SIZE = 100 * 1024;\n",
              "\n",
              "function _uploadFiles(inputId, outputId) {\n",
              "  const steps = uploadFilesStep(inputId, outputId);\n",
              "  const outputElement = document.getElementById(outputId);\n",
              "  // Cache steps on the outputElement to make it available for the next call\n",
              "  // to uploadFilesContinue from Python.\n",
              "  outputElement.steps = steps;\n",
              "\n",
              "  return _uploadFilesContinue(outputId);\n",
              "}\n",
              "\n",
              "// This is roughly an async generator (not supported in the browser yet),\n",
              "// where there are multiple asynchronous steps and the Python side is going\n",
              "// to poll for completion of each step.\n",
              "// This uses a Promise to block the python side on completion of each step,\n",
              "// then passes the result of the previous step as the input to the next step.\n",
              "function _uploadFilesContinue(outputId) {\n",
              "  const outputElement = document.getElementById(outputId);\n",
              "  const steps = outputElement.steps;\n",
              "\n",
              "  const next = steps.next(outputElement.lastPromiseValue);\n",
              "  return Promise.resolve(next.value.promise).then((value) => {\n",
              "    // Cache the last promise value to make it available to the next\n",
              "    // step of the generator.\n",
              "    outputElement.lastPromiseValue = value;\n",
              "    return next.value.response;\n",
              "  });\n",
              "}\n",
              "\n",
              "/**\n",
              " * Generator function which is called between each async step of the upload\n",
              " * process.\n",
              " * @param {string} inputId Element ID of the input file picker element.\n",
              " * @param {string} outputId Element ID of the output display.\n",
              " * @return {!Iterable<!Object>} Iterable of next steps.\n",
              " */\n",
              "function* uploadFilesStep(inputId, outputId) {\n",
              "  const inputElement = document.getElementById(inputId);\n",
              "  inputElement.disabled = false;\n",
              "\n",
              "  const outputElement = document.getElementById(outputId);\n",
              "  outputElement.innerHTML = '';\n",
              "\n",
              "  const pickedPromise = new Promise((resolve) => {\n",
              "    inputElement.addEventListener('change', (e) => {\n",
              "      resolve(e.target.files);\n",
              "    });\n",
              "  });\n",
              "\n",
              "  const cancel = document.createElement('button');\n",
              "  inputElement.parentElement.appendChild(cancel);\n",
              "  cancel.textContent = 'Cancel upload';\n",
              "  const cancelPromise = new Promise((resolve) => {\n",
              "    cancel.onclick = () => {\n",
              "      resolve(null);\n",
              "    };\n",
              "  });\n",
              "\n",
              "  // Wait for the user to pick the files.\n",
              "  const files = yield {\n",
              "    promise: Promise.race([pickedPromise, cancelPromise]),\n",
              "    response: {\n",
              "      action: 'starting',\n",
              "    }\n",
              "  };\n",
              "\n",
              "  cancel.remove();\n",
              "\n",
              "  // Disable the input element since further picks are not allowed.\n",
              "  inputElement.disabled = true;\n",
              "\n",
              "  if (!files) {\n",
              "    return {\n",
              "      response: {\n",
              "        action: 'complete',\n",
              "      }\n",
              "    };\n",
              "  }\n",
              "\n",
              "  for (const file of files) {\n",
              "    const li = document.createElement('li');\n",
              "    li.append(span(file.name, {fontWeight: 'bold'}));\n",
              "    li.append(span(\n",
              "        `(${file.type || 'n/a'}) - ${file.size} bytes, ` +\n",
              "        `last modified: ${\n",
              "            file.lastModifiedDate ? file.lastModifiedDate.toLocaleDateString() :\n",
              "                                    'n/a'} - `));\n",
              "    const percent = span('0% done');\n",
              "    li.appendChild(percent);\n",
              "\n",
              "    outputElement.appendChild(li);\n",
              "\n",
              "    const fileDataPromise = new Promise((resolve) => {\n",
              "      const reader = new FileReader();\n",
              "      reader.onload = (e) => {\n",
              "        resolve(e.target.result);\n",
              "      };\n",
              "      reader.readAsArrayBuffer(file);\n",
              "    });\n",
              "    // Wait for the data to be ready.\n",
              "    let fileData = yield {\n",
              "      promise: fileDataPromise,\n",
              "      response: {\n",
              "        action: 'continue',\n",
              "      }\n",
              "    };\n",
              "\n",
              "    // Use a chunked sending to avoid message size limits. See b/62115660.\n",
              "    let position = 0;\n",
              "    do {\n",
              "      const length = Math.min(fileData.byteLength - position, MAX_PAYLOAD_SIZE);\n",
              "      const chunk = new Uint8Array(fileData, position, length);\n",
              "      position += length;\n",
              "\n",
              "      const base64 = btoa(String.fromCharCode.apply(null, chunk));\n",
              "      yield {\n",
              "        response: {\n",
              "          action: 'append',\n",
              "          file: file.name,\n",
              "          data: base64,\n",
              "        },\n",
              "      };\n",
              "\n",
              "      let percentDone = fileData.byteLength === 0 ?\n",
              "          100 :\n",
              "          Math.round((position / fileData.byteLength) * 100);\n",
              "      percent.textContent = `${percentDone}% done`;\n",
              "\n",
              "    } while (position < fileData.byteLength);\n",
              "  }\n",
              "\n",
              "  // All done.\n",
              "  yield {\n",
              "    response: {\n",
              "      action: 'complete',\n",
              "    }\n",
              "  };\n",
              "}\n",
              "\n",
              "scope.google = scope.google || {};\n",
              "scope.google.colab = scope.google.colab || {};\n",
              "scope.google.colab._files = {\n",
              "  _uploadFiles,\n",
              "  _uploadFilesContinue,\n",
              "};\n",
              "})(self);\n",
              "</script> "
            ]
          },
          "metadata": {}
        },
        {
          "output_type": "stream",
          "name": "stdout",
          "text": [
            "Saving konseria.csv to konseria.csv\n"
          ]
        }
      ]
    },
    {
      "cell_type": "code",
      "source": [
        "df = pd.read_csv('konseria.csv')\n",
        "df= df.sort_values(\"Rating\",ascending=False)\n",
        "# df = df[df['Rating']>4]\n",
        "print(\"DataFrame\", df)"
      ],
      "metadata": {
        "id": "TRZgR0QT7qpn",
        "colab": {
          "base_uri": "https://localhost:8080/"
        },
        "outputId": "619d65b2-04ff-4021-bf77-eb45506788d2"
      },
      "execution_count": null,
      "outputs": [
        {
          "output_type": "stream",
          "name": "stdout",
          "text": [
            "DataFrame      No             Event Name  Event Date    Jam Genre Music  \\\n",
            "99  100               Repvblik  2023-07-27  19:30        Rock   \n",
            "81   82              Sisitipsi  2023-07-17  20:30  Indie Folk   \n",
            "85   86                  AC/DC  2023-07-15  19:30   Hard Rock   \n",
            "25   26             Bruno Mars  2023-06-10  18:30         Pop   \n",
            "26   27  Red Hot Chili Peppers  2023-07-15  18:30        Rock   \n",
            "..  ...                    ...         ...    ...         ...   \n",
            "53   54              The Adams  2023-10-30  16:45         Pop   \n",
            "15   16                  Tulus  2023-09-15  19:30         Pop   \n",
            "95   96            Kangen Band  2023-07-28  18:15         Pop   \n",
            "49   50   Maliq & D'Essentials  2023-10-20  18:00         R&B   \n",
            "0     1          Coldplay Live  2023-07-15  16:00        Rock   \n",
            "\n",
            "                         Venue        Kota  Standard Price  VIP Price  \\\n",
            "99   Jakarta Convention Center     Jakarta          100000    200,000   \n",
            "81                      Sabuga     Bandung          125000    250,000   \n",
            "85                      Sabuga     Bandung         1500000  3,000,000   \n",
            "25           Gelora Bung Karno     Jakarta          500000  1,000,000   \n",
            "26  East Coast Center Surabaya    Surabaya         1000000  2,000,000   \n",
            "..                         ...         ...             ...        ...   \n",
            "53               Joglo Plawang  Yogyakarta           60000    120,000   \n",
            "15         Graha Bhakti Budaya     Jakarta         1000000  2,000,000   \n",
            "95              Graha Manggala     Bandung          120000    240,000   \n",
            "49               Tennis Indoor     Jakarta          125000    250,000   \n",
            "0            Gelora Bung Karno     Jakarta          250000    500,000   \n",
            "\n",
            "    Tiket Standard yang tersedia  Sisa Tiket Standard  \\\n",
            "99                           230                   75   \n",
            "81                           240                   43   \n",
            "85                           450                   50   \n",
            "25                          5000                 3500   \n",
            "26                          1000                  460   \n",
            "..                           ...                  ...   \n",
            "53                           800                  213   \n",
            "15                           120                   90   \n",
            "95                           235                   34   \n",
            "49                          2000                 1234   \n",
            "0                            400                  100   \n",
            "\n",
            "    Tiket VIP yang tersedia  Sisa Tiket VIP  Rating  \n",
            "99                       80              67     5.0  \n",
            "81                       30              14     5.0  \n",
            "85                       59              44     5.0  \n",
            "25                      200              23     5.0  \n",
            "26                      550              49     5.0  \n",
            "..                      ...             ...     ...  \n",
            "53                       60              34     2.0  \n",
            "15                       20              10     1.0  \n",
            "95                       70              65     1.0  \n",
            "49                      125              75     1.0  \n",
            "0                       100              40     1.0  \n",
            "\n",
            "[100 rows x 14 columns]\n"
          ]
        }
      ]
    },
    {
      "cell_type": "code",
      "source": [
        "z = df[\"Standard Price\"]\n",
        "z.dtype"
      ],
      "metadata": {
        "colab": {
          "base_uri": "https://localhost:8080/"
        },
        "id": "WFRAgHq68uuT",
        "outputId": "d86fa736-c968-4d13-9a6d-8e5374064136"
      },
      "execution_count": null,
      "outputs": [
        {
          "output_type": "execute_result",
          "data": {
            "text/plain": [
              "dtype('int64')"
            ]
          },
          "metadata": {},
          "execution_count": 5
        }
      ]
    },
    {
      "cell_type": "code",
      "source": [
        "event_ids = df['Event Name'].unique()\n",
        "rating_ids=df['Rating'].unique()\n",
        "id_map={id: i for i, id in enumerate(event_ids)}\n",
        "price_ids = df['Standard Price'].unique()\n",
        "price_map={id: i for i, id in enumerate(price_ids)}\n",
        "rating_map={id: i for i, id in enumerate(rating_ids)}\n",
        "\n",
        "\n",
        "df['event_index'] = df['Event Name'].map(id_map)\n",
        "df['price_index']=df['Standard Price'].map(price_map)\n",
        "df['rating_index']=df['Rating'].map(rating_map)"
      ],
      "metadata": {
        "id": "oKbr8CEh7Ti2"
      },
      "execution_count": null,
      "outputs": []
    },
    {
      "cell_type": "code",
      "source": [
        "# z = df[\"Standard Price\"]\n",
        "# z.dtype\n",
        "\n",
        "X = df[['event_index','rating_index','price_index']].values\n",
        "y = df['Rating'].values"
      ],
      "metadata": {
        "id": "VmhTqeeG5Bk4"
      },
      "execution_count": null,
      "outputs": []
    },
    {
      "cell_type": "code",
      "source": [
        "# X=df[\"Standard Price\"]\n",
        "# print(X)\n",
        "X_train, X_test, y_train, y_test = train_test_split(X, y, test_size=0.2, random_state=42)"
      ],
      "metadata": {
        "id": "jFJpzaC770G5"
      },
      "execution_count": null,
      "outputs": []
    },
    {
      "cell_type": "code",
      "source": [
        "# df = df.astype({'Rating':'int'})\n",
        "# print(df.dtypes)\n"
      ],
      "metadata": {
        "id": "gZ2906UY8hAi"
      },
      "execution_count": null,
      "outputs": []
    },
    {
      "cell_type": "code",
      "source": [
        "# y=df[\"Rating\"].values\n",
        "# print(y)"
      ],
      "metadata": {
        "id": "MTIbVKcv89d0"
      },
      "execution_count": null,
      "outputs": []
    },
    {
      "cell_type": "code",
      "source": [
        "# X_tf = tf.convert_to_tensor(X)\n",
        "# y_tf = tf.convert_to_tensor(y)\n",
        "# X_tf.dtype, y_tf.dtype"
      ],
      "metadata": {
        "id": "aD020_dC1XBl"
      },
      "execution_count": null,
      "outputs": []
    },
    {
      "cell_type": "code",
      "source": [
        "# x_train = X_tf[:80]\n",
        "# y_train = y_tf[:80]\n",
        "# x_test = X_tf[80:]\n",
        "# y_test = y_tf[80:]"
      ],
      "metadata": {
        "id": "NyrlO3zMyN8h"
      },
      "execution_count": null,
      "outputs": []
    },
    {
      "cell_type": "code",
      "source": [
        "# model = tf.keras.Sequential([\n",
        "#     tf.keras.layers.Dense(100, input_shape=[1]),\n",
        "#     tf.keras.layers.Dense(10),\n",
        "#     tf.keras.layers.Dense(1, activation=\"softmax\")\n",
        "# ])\n",
        "# model.compile(loss=tf.keras.losses.categorical_crossentropy, optimizer= tf.keras.optimizers.Adam(lr=0.01),metrics=['accuracy'] )\n",
        "# model.fit(x_train, y_train, epochs=10, batch_size=32)\n",
        "N=len(event_ids)\n",
        "print(N/2+N*3)\n",
        "model = tf.keras.Sequential([\n",
        "    tf.keras.layers.Embedding(len(event_ids), 128, input_length=3),\n",
        "    # tf.keras.layers.Dense(64),\n",
        "    # tf.keras.layers.Dense(32),\n",
        "    tf.keras.layers.Dense(32, activation='relu'),\n",
        "    tf.keras.layers.Dense(100, activation='relu'),\n",
        "    tf.keras.layers.Dense(10),\n",
        "    tf.keras.layers.Flatten(),\n",
        "    tf.keras.layers.Dense(len(event_ids),activation='relu')\n",
        "\n",
        "])"
      ],
      "metadata": {
        "id": "Ab2oaP1ZzFj9",
        "colab": {
          "base_uri": "https://localhost:8080/"
        },
        "outputId": "3081258d-2574-4011-c7a4-4ece5a38f823"
      },
      "execution_count": null,
      "outputs": [
        {
          "output_type": "stream",
          "name": "stdout",
          "text": [
            "343.0\n"
          ]
        }
      ]
    },
    {
      "cell_type": "code",
      "source": [
        "# model.evaluate(x_test, y_test)\n",
        "model.compile(loss='mean_squared_error', optimizer=tf.keras.optimizers.Adam(learning_rate=0.1), metrics=[\"mse\"])"
      ],
      "metadata": {
        "id": "Tv8sNHTt-WZJ"
      },
      "execution_count": null,
      "outputs": []
    },
    {
      "cell_type": "code",
      "source": [
        "# predictions = model.predict(x_test)\n",
        "model.fit(X_train, y_train, epochs=100, batch_size=32, verbose=1)"
      ],
      "metadata": {
        "colab": {
          "base_uri": "https://localhost:8080/"
        },
        "id": "tyraW-l2zRIA",
        "outputId": "dac1fb89-03bb-4897-e0ea-9df23bd4724b"
      },
      "execution_count": null,
      "outputs": [
        {
          "output_type": "stream",
          "name": "stdout",
          "text": [
            "Epoch 1/100\n",
            "3/3 [==============================] - 1s 5ms/step - loss: 41.2436 - mse: 41.2436\n",
            "Epoch 2/100\n",
            "3/3 [==============================] - 0s 5ms/step - loss: 13.8782 - mse: 13.8782\n",
            "Epoch 3/100\n",
            "3/3 [==============================] - 0s 4ms/step - loss: 12.8596 - mse: 12.8596\n",
            "Epoch 4/100\n",
            "3/3 [==============================] - 0s 8ms/step - loss: 9.8430 - mse: 9.8430\n",
            "Epoch 5/100\n",
            "3/3 [==============================] - 0s 5ms/step - loss: 9.0147 - mse: 9.0147\n",
            "Epoch 6/100\n",
            "3/3 [==============================] - 0s 4ms/step - loss: 7.6395 - mse: 7.6395\n",
            "Epoch 7/100\n",
            "3/3 [==============================] - 0s 4ms/step - loss: 2.7818 - mse: 2.7818\n",
            "Epoch 8/100\n",
            "3/3 [==============================] - 0s 4ms/step - loss: 1.9847 - mse: 1.9847\n",
            "Epoch 9/100\n",
            "3/3 [==============================] - 0s 4ms/step - loss: 1.8299 - mse: 1.8299\n",
            "Epoch 10/100\n",
            "3/3 [==============================] - 0s 4ms/step - loss: 1.7850 - mse: 1.7850\n",
            "Epoch 11/100\n",
            "3/3 [==============================] - 0s 4ms/step - loss: 1.1268 - mse: 1.1268\n",
            "Epoch 12/100\n",
            "3/3 [==============================] - 0s 4ms/step - loss: 1.2420 - mse: 1.2420\n",
            "Epoch 13/100\n",
            "3/3 [==============================] - 0s 4ms/step - loss: 1.3294 - mse: 1.3294\n",
            "Epoch 14/100\n",
            "3/3 [==============================] - 0s 4ms/step - loss: 1.1114 - mse: 1.1114\n",
            "Epoch 15/100\n",
            "3/3 [==============================] - 0s 5ms/step - loss: 1.1417 - mse: 1.1417\n",
            "Epoch 16/100\n",
            "3/3 [==============================] - 0s 4ms/step - loss: 1.3113 - mse: 1.3113\n",
            "Epoch 17/100\n",
            "3/3 [==============================] - 0s 4ms/step - loss: 1.2634 - mse: 1.2634\n",
            "Epoch 18/100\n",
            "3/3 [==============================] - 0s 4ms/step - loss: 1.0547 - mse: 1.0547\n",
            "Epoch 19/100\n",
            "3/3 [==============================] - 0s 5ms/step - loss: 1.0389 - mse: 1.0389\n",
            "Epoch 20/100\n",
            "3/3 [==============================] - 0s 5ms/step - loss: 1.1028 - mse: 1.1028\n",
            "Epoch 21/100\n",
            "3/3 [==============================] - 0s 4ms/step - loss: 1.0467 - mse: 1.0467\n",
            "Epoch 22/100\n",
            "3/3 [==============================] - 0s 5ms/step - loss: 1.0142 - mse: 1.0142\n",
            "Epoch 23/100\n",
            "3/3 [==============================] - 0s 4ms/step - loss: 1.0012 - mse: 1.0012\n",
            "Epoch 24/100\n",
            "3/3 [==============================] - 0s 6ms/step - loss: 0.9688 - mse: 0.9688\n",
            "Epoch 25/100\n",
            "3/3 [==============================] - 0s 5ms/step - loss: 0.9236 - mse: 0.9236\n",
            "Epoch 26/100\n",
            "3/3 [==============================] - 0s 4ms/step - loss: 0.9750 - mse: 0.9750\n",
            "Epoch 27/100\n",
            "3/3 [==============================] - 0s 4ms/step - loss: 0.9727 - mse: 0.9727\n",
            "Epoch 28/100\n",
            "3/3 [==============================] - 0s 5ms/step - loss: 0.9460 - mse: 0.9460\n",
            "Epoch 29/100\n",
            "3/3 [==============================] - 0s 4ms/step - loss: 0.9901 - mse: 0.9901\n",
            "Epoch 30/100\n",
            "3/3 [==============================] - 0s 5ms/step - loss: 0.9281 - mse: 0.9281\n",
            "Epoch 31/100\n",
            "3/3 [==============================] - 0s 4ms/step - loss: 0.9431 - mse: 0.9431\n",
            "Epoch 32/100\n",
            "3/3 [==============================] - 0s 4ms/step - loss: 0.9483 - mse: 0.9483\n",
            "Epoch 33/100\n",
            "3/3 [==============================] - 0s 4ms/step - loss: 0.9263 - mse: 0.9263\n",
            "Epoch 34/100\n",
            "3/3 [==============================] - 0s 4ms/step - loss: 0.9144 - mse: 0.9144\n",
            "Epoch 35/100\n",
            "3/3 [==============================] - 0s 4ms/step - loss: 0.9288 - mse: 0.9288\n",
            "Epoch 36/100\n",
            "3/3 [==============================] - 0s 4ms/step - loss: 0.9128 - mse: 0.9128\n",
            "Epoch 37/100\n",
            "3/3 [==============================] - 0s 4ms/step - loss: 0.9008 - mse: 0.9008\n",
            "Epoch 38/100\n",
            "3/3 [==============================] - 0s 4ms/step - loss: 0.9065 - mse: 0.9065\n",
            "Epoch 39/100\n",
            "3/3 [==============================] - 0s 4ms/step - loss: 0.9047 - mse: 0.9047\n",
            "Epoch 40/100\n",
            "3/3 [==============================] - 0s 4ms/step - loss: 0.9059 - mse: 0.9059\n",
            "Epoch 41/100\n",
            "3/3 [==============================] - 0s 5ms/step - loss: 0.9083 - mse: 0.9083\n",
            "Epoch 42/100\n",
            "3/3 [==============================] - 0s 4ms/step - loss: 0.9030 - mse: 0.9030\n",
            "Epoch 43/100\n",
            "3/3 [==============================] - 0s 6ms/step - loss: 0.9113 - mse: 0.9113\n",
            "Epoch 44/100\n",
            "3/3 [==============================] - 0s 6ms/step - loss: 0.9165 - mse: 0.9165\n",
            "Epoch 45/100\n",
            "3/3 [==============================] - 0s 5ms/step - loss: 0.9134 - mse: 0.9134\n",
            "Epoch 46/100\n",
            "3/3 [==============================] - 0s 4ms/step - loss: 0.9243 - mse: 0.9243\n",
            "Epoch 47/100\n",
            "3/3 [==============================] - 0s 4ms/step - loss: 0.9045 - mse: 0.9045\n",
            "Epoch 48/100\n",
            "3/3 [==============================] - 0s 4ms/step - loss: 0.9398 - mse: 0.9398\n",
            "Epoch 49/100\n",
            "3/3 [==============================] - 0s 5ms/step - loss: 0.9421 - mse: 0.9421\n",
            "Epoch 50/100\n",
            "3/3 [==============================] - 0s 5ms/step - loss: 0.9166 - mse: 0.9166\n",
            "Epoch 51/100\n",
            "3/3 [==============================] - 0s 5ms/step - loss: 0.9104 - mse: 0.9104\n",
            "Epoch 52/100\n",
            "3/3 [==============================] - 0s 5ms/step - loss: 0.9218 - mse: 0.9218\n",
            "Epoch 53/100\n",
            "3/3 [==============================] - 0s 5ms/step - loss: 0.9070 - mse: 0.9070\n",
            "Epoch 54/100\n",
            "3/3 [==============================] - 0s 5ms/step - loss: 0.9318 - mse: 0.9318\n",
            "Epoch 55/100\n",
            "3/3 [==============================] - 0s 4ms/step - loss: 0.9395 - mse: 0.9395\n",
            "Epoch 56/100\n",
            "3/3 [==============================] - 0s 4ms/step - loss: 0.9332 - mse: 0.9332\n",
            "Epoch 57/100\n",
            "3/3 [==============================] - 0s 4ms/step - loss: 0.9166 - mse: 0.9166\n",
            "Epoch 58/100\n",
            "3/3 [==============================] - 0s 5ms/step - loss: 0.9038 - mse: 0.9038\n",
            "Epoch 59/100\n",
            "3/3 [==============================] - 0s 4ms/step - loss: 0.9131 - mse: 0.9131\n",
            "Epoch 60/100\n",
            "3/3 [==============================] - 0s 4ms/step - loss: 0.9048 - mse: 0.9048\n",
            "Epoch 61/100\n",
            "3/3 [==============================] - 0s 4ms/step - loss: 0.9006 - mse: 0.9006\n",
            "Epoch 62/100\n",
            "3/3 [==============================] - 0s 6ms/step - loss: 0.9014 - mse: 0.9014\n",
            "Epoch 63/100\n",
            "3/3 [==============================] - 0s 5ms/step - loss: 0.9015 - mse: 0.9015\n",
            "Epoch 64/100\n",
            "3/3 [==============================] - 0s 5ms/step - loss: 0.9031 - mse: 0.9031\n",
            "Epoch 65/100\n",
            "3/3 [==============================] - 0s 5ms/step - loss: 0.9151 - mse: 0.9151\n",
            "Epoch 66/100\n",
            "3/3 [==============================] - 0s 4ms/step - loss: 0.9144 - mse: 0.9144\n",
            "Epoch 67/100\n",
            "3/3 [==============================] - 0s 4ms/step - loss: 0.9050 - mse: 0.9050\n",
            "Epoch 68/100\n",
            "3/3 [==============================] - 0s 4ms/step - loss: 0.9018 - mse: 0.9018\n",
            "Epoch 69/100\n",
            "3/3 [==============================] - 0s 4ms/step - loss: 0.9016 - mse: 0.9016\n",
            "Epoch 70/100\n",
            "3/3 [==============================] - 0s 5ms/step - loss: 0.9024 - mse: 0.9024\n",
            "Epoch 71/100\n",
            "3/3 [==============================] - 0s 4ms/step - loss: 0.9006 - mse: 0.9006\n",
            "Epoch 72/100\n",
            "3/3 [==============================] - 0s 4ms/step - loss: 0.9021 - mse: 0.9021\n",
            "Epoch 73/100\n",
            "3/3 [==============================] - 0s 4ms/step - loss: 0.9061 - mse: 0.9061\n",
            "Epoch 74/100\n",
            "3/3 [==============================] - 0s 4ms/step - loss: 0.9081 - mse: 0.9081\n",
            "Epoch 75/100\n",
            "3/3 [==============================] - 0s 5ms/step - loss: 0.9044 - mse: 0.9044\n",
            "Epoch 76/100\n",
            "3/3 [==============================] - 0s 5ms/step - loss: 0.9325 - mse: 0.9325\n",
            "Epoch 77/100\n",
            "3/3 [==============================] - 0s 5ms/step - loss: 0.9208 - mse: 0.9208\n",
            "Epoch 78/100\n",
            "3/3 [==============================] - 0s 5ms/step - loss: 0.9330 - mse: 0.9330\n",
            "Epoch 79/100\n",
            "3/3 [==============================] - 0s 5ms/step - loss: 0.9116 - mse: 0.9116\n",
            "Epoch 80/100\n",
            "3/3 [==============================] - 0s 5ms/step - loss: 0.9097 - mse: 0.9097\n",
            "Epoch 81/100\n",
            "3/3 [==============================] - 0s 5ms/step - loss: 0.9123 - mse: 0.9123\n",
            "Epoch 82/100\n",
            "3/3 [==============================] - 0s 5ms/step - loss: 0.9037 - mse: 0.9037\n",
            "Epoch 83/100\n",
            "3/3 [==============================] - 0s 4ms/step - loss: 0.9261 - mse: 0.9261\n",
            "Epoch 84/100\n",
            "3/3 [==============================] - 0s 4ms/step - loss: 0.9118 - mse: 0.9118\n",
            "Epoch 85/100\n",
            "3/3 [==============================] - 0s 4ms/step - loss: 0.9468 - mse: 0.9468\n",
            "Epoch 86/100\n",
            "3/3 [==============================] - 0s 4ms/step - loss: 0.9940 - mse: 0.9940\n",
            "Epoch 87/100\n",
            "3/3 [==============================] - 0s 4ms/step - loss: 0.9957 - mse: 0.9957\n",
            "Epoch 88/100\n",
            "3/3 [==============================] - 0s 5ms/step - loss: 0.9746 - mse: 0.9746\n",
            "Epoch 89/100\n",
            "3/3 [==============================] - 0s 4ms/step - loss: 0.9187 - mse: 0.9187\n",
            "Epoch 90/100\n",
            "3/3 [==============================] - 0s 5ms/step - loss: 0.9050 - mse: 0.9050\n",
            "Epoch 91/100\n",
            "3/3 [==============================] - 0s 5ms/step - loss: 0.9174 - mse: 0.9174\n",
            "Epoch 92/100\n",
            "3/3 [==============================] - 0s 4ms/step - loss: 0.9193 - mse: 0.9193\n",
            "Epoch 93/100\n",
            "3/3 [==============================] - 0s 5ms/step - loss: 0.9308 - mse: 0.9308\n",
            "Epoch 94/100\n",
            "3/3 [==============================] - 0s 5ms/step - loss: 0.9128 - mse: 0.9128\n",
            "Epoch 95/100\n",
            "3/3 [==============================] - 0s 5ms/step - loss: 0.9029 - mse: 0.9029\n",
            "Epoch 96/100\n",
            "3/3 [==============================] - 0s 5ms/step - loss: 0.9205 - mse: 0.9205\n",
            "Epoch 97/100\n",
            "3/3 [==============================] - 0s 4ms/step - loss: 0.9075 - mse: 0.9075\n",
            "Epoch 98/100\n",
            "3/3 [==============================] - 0s 5ms/step - loss: 0.9281 - mse: 0.9281\n",
            "Epoch 99/100\n",
            "3/3 [==============================] - 0s 4ms/step - loss: 0.9028 - mse: 0.9028\n",
            "Epoch 100/100\n",
            "3/3 [==============================] - 0s 4ms/step - loss: 0.9385 - mse: 0.9385\n"
          ]
        },
        {
          "output_type": "execute_result",
          "data": {
            "text/plain": [
              "<keras.callbacks.History at 0x7fa8e77bc2e0>"
            ]
          },
          "metadata": {},
          "execution_count": 67
        }
      ]
    },
    {
      "cell_type": "code",
      "source": [
        "# highest_index = predictions.argmax()\n",
        "predictions = model.predict(X_test)"
      ],
      "metadata": {
        "id": "KybAzcCe6aDW",
        "colab": {
          "base_uri": "https://localhost:8080/"
        },
        "outputId": "4d0b170e-ff44-4dc7-84e0-7a139ebd058e"
      },
      "execution_count": null,
      "outputs": [
        {
          "output_type": "stream",
          "name": "stdout",
          "text": [
            "1/1 [==============================] - 0s 130ms/step\n"
          ]
        }
      ]
    },
    {
      "cell_type": "code",
      "source": [
        "# highest_rated_event = x_test[highest_index]\n",
        "sorted_indices = predictions.argsort(axis=0)[::-1].flatten()\n",
        "print(sorted_indices)"
      ],
      "metadata": {
        "id": "-JMLOOQo6clZ",
        "colab": {
          "base_uri": "https://localhost:8080/"
        },
        "outputId": "b34dd8b6-320a-4f3e-bdbd-a4e03d4d1768"
      },
      "execution_count": null,
      "outputs": [
        {
          "output_type": "stream",
          "name": "stdout",
          "text": [
            "[6 9 9 ... 0 0 0]\n"
          ]
        }
      ]
    },
    {
      "cell_type": "code",
      "source": [
        "# Membuat dictionary untuk menyimpan jumlah kemunculan angka\n",
        "count_dict = {}\n",
        "\n",
        "# Menghitung jumlah kemunculan setiap angka dalam array\n",
        "for num in sorted_indices:\n",
        "    if num in count_dict:\n",
        "        count_dict[num] += 1\n",
        "    else:\n",
        "        count_dict[num] = 1\n",
        "\n",
        "# Menampilkan hasil jumlah kemunculan angka\n",
        "for num, count in count_dict.items():\n",
        "  event=df.iloc[num,1]\n",
        "  rating=df.iloc[num,13]\n",
        "  price=df.iloc[num,7]\n",
        "  print(\"Angka\", num, \"muncul sebanyak\", count, \"kali.\",\"Price: \",price,\",Event: \",event,\",Ratingt: \",rating)"
      ],
      "metadata": {
        "colab": {
          "base_uri": "https://localhost:8080/"
        },
        "id": "eCQyfZlu3GLH",
        "outputId": "ef998ea4-9111-4d6a-d207-a6d3285b52aa"
      },
      "execution_count": null,
      "outputs": [
        {
          "output_type": "stream",
          "name": "stdout",
          "text": [
            "Angka 6 muncul sebanyak 98 kali. Price:  250000 ,Event:  Andrea Bocelli ,Ratingt:  5.0\n",
            "Angka 9 muncul sebanyak 98 kali. Price:  100000 ,Event:  Tipe-X ,Ratingt:  5.0\n",
            "Angka 18 muncul sebanyak 98 kali. Price:  175000 ,Event:  Jakarta Philharmonic Orchestra ,Ratingt:  5.0\n",
            "Angka 19 muncul sebanyak 98 kali. Price:  400000 ,Event:  Yogyakarta Symphony Orchestra ,Ratingt:  5.0\n",
            "Angka 15 muncul sebanyak 98 kali. Price:  275000 ,Event:  Tessa Violet ,Ratingt:  5.0\n",
            "Angka 8 muncul sebanyak 98 kali. Price:  100000 ,Event:  Seringai ,Ratingt:  5.0\n",
            "Angka 10 muncul sebanyak 98 kali. Price:  150000 ,Event:  Padi Reunion ,Ratingt:  5.0\n",
            "Angka 1 muncul sebanyak 98 kali. Price:  125000 ,Event:  Sisitipsi ,Ratingt:  5.0\n",
            "Angka 2 muncul sebanyak 98 kali. Price:  1500000 ,Event:  AC/DC ,Ratingt:  5.0\n",
            "Angka 3 muncul sebanyak 98 kali. Price:  500000 ,Event:  Bruno Mars ,Ratingt:  5.0\n",
            "Angka 4 muncul sebanyak 98 kali. Price:  1000000 ,Event:  Red Hot Chili Peppers ,Ratingt:  5.0\n",
            "Angka 11 muncul sebanyak 98 kali. Price:  200000 ,Event:  Ayu Ting Ting Festival ,Ratingt:  5.0\n",
            "Angka 5 muncul sebanyak 98 kali. Price:  400000 ,Event:  John Mayer ,Ratingt:  5.0\n",
            "Angka 12 muncul sebanyak 98 kali. Price:  500000 ,Event:  Lang Lang ,Ratingt:  5.0\n",
            "Angka 7 muncul sebanyak 98 kali. Price:  500000 ,Event:  Ed Sheeran ,Ratingt:  5.0\n",
            "Angka 13 muncul sebanyak 98 kali. Price:  125000 ,Event:  Oh Wonder ,Ratingt:  5.0\n",
            "Angka 14 muncul sebanyak 98 kali. Price:  150000 ,Event:  Conan Gray ,Ratingt:  5.0\n",
            "Angka 16 muncul sebanyak 98 kali. Price:  1500000 ,Event:  Cardi B ,Ratingt:  5.0\n",
            "Angka 0 muncul sebanyak 98 kali. Price:  100000 ,Event:  Repvblik ,Ratingt:  5.0\n",
            "Angka 17 muncul sebanyak 98 kali. Price:  350000 ,Event:  Red Velvet: La Rouge ,Ratingt:  5.0\n"
          ]
        }
      ]
    },
    {
      "cell_type": "code",
      "source": [
        "top_event = event_ids[sorted_indices]\n",
        "top_events = list(dict.fromkeys(top_event))\n",
        "# print(top_event)\n",
        "len(top_event)\n",
        "print(top_events)"
      ],
      "metadata": {
        "colab": {
          "base_uri": "https://localhost:8080/"
        },
        "id": "sLxue1TQ9V-O",
        "outputId": "83be02c2-08fa-4aba-9f55-4a0f26e7d098"
      },
      "execution_count": null,
      "outputs": [
        {
          "output_type": "stream",
          "name": "stdout",
          "text": [
            "['Andrea Bocelli', 'Tipe-X', 'Jakarta Philharmonic Orchestra', 'Yogyakarta Symphony Orchestra', 'Tessa Violet', 'Seringai', 'Padi Reunion', 'Sisitipsi', 'AC/DC', 'Bruno Mars', 'Red Hot Chili Peppers', 'Ayu Ting Ting Festival', 'John Mayer', 'Lang Lang', 'Ed Sheeran', 'Oh Wonder', 'Conan Gray', 'Cardi B', 'Repvblik', 'Red Velvet: La Rouge']\n"
          ]
        }
      ]
    },
    {
      "cell_type": "code",
      "source": [
        "model.evaluate(X_test, y_test)"
      ],
      "metadata": {
        "colab": {
          "base_uri": "https://localhost:8080/"
        },
        "id": "JYq8pXGbzmiW",
        "outputId": "992cfa8a-50d9-46d2-ca12-a8ed21b5fbd8"
      },
      "execution_count": null,
      "outputs": [
        {
          "output_type": "stream",
          "name": "stdout",
          "text": [
            "1/1 [==============================] - 0s 189ms/step - loss: 0.9179 - mse: 0.9179\n"
          ]
        },
        {
          "output_type": "execute_result",
          "data": {
            "text/plain": [
              "[0.9178858995437622, 0.9178858995437622]"
            ]
          },
          "metadata": {},
          "execution_count": 62
        }
      ]
    },
    {
      "cell_type": "code",
      "source": [
        "# print(\"Highest-rated event:\")\n",
        "# print(highest_rated_event)"
      ],
      "metadata": {
        "id": "2E-besD76-eF"
      },
      "execution_count": null,
      "outputs": []
    }
  ]
}